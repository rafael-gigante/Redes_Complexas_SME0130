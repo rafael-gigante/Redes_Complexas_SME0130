{
 "cells": [
  {
   "cell_type": "markdown",
   "metadata": {},
   "source": [
    "# Questionário 4 - Redes Complexas (SME0130)\n",
    "---\n",
    "\n",
    "Aluno: Rafael Fernando Gigante\n",
    "\n",
    "N° USP: 12610500"
   ]
  },
  {
   "cell_type": "code",
   "execution_count": 32,
   "metadata": {},
   "outputs": [],
   "source": [
    "import numpy as np\n",
    "import networkx as nx\n",
    "from networkx.algorithms.community import greedy_modularity_communities\n",
    "from community import community_louvain"
   ]
  },
  {
   "cell_type": "markdown",
   "metadata": {},
   "source": [
    "**Questão 1** - Calcule a modularidade para a rede Jazz usando o método fastgreedy."
   ]
  },
  {
   "cell_type": "code",
   "execution_count": 33,
   "metadata": {},
   "outputs": [],
   "source": [
    "def modularity(G, c):\n",
    "    A = nx.adjacency_matrix(G)\n",
    "    N = len(G)\n",
    "    M = G.number_of_edges()\n",
    "    Q = 0\n",
    "    for i in np.arange(0,N):\n",
    "        ki = len(list(G.neighbors(i)))\n",
    "        for j in np.arange(0,N):\n",
    "            if(c[i]==c[j]):\n",
    "                kj = len(list(G.neighbors(j)))\n",
    "                Q = Q + A[i,j]-(ki*kj)/(2*M)\n",
    "    Q = Q/(2*M)\n",
    "    return Q"
   ]
  },
  {
   "cell_type": "code",
   "execution_count": 34,
   "metadata": {},
   "outputs": [
    {
     "name": "stdout",
     "output_type": "stream",
     "text": [
      "Modularity Q =  0.4389078153753761\n"
     ]
    }
   ],
   "source": [
    "#Reading the network from a file with two colums\n",
    "G= G=nx.read_edgelist(\"data/jazz.txt\", nodetype=int)\n",
    "\n",
    "#Organizing the components of the network and selecting only the largest\n",
    "G = G.to_undirected()\n",
    "G.remove_edges_from(nx.selfloop_edges(G))\n",
    "Gcc = sorted(nx.connected_components(G), key=len, reverse=True)\n",
    "G = G.subgraph(Gcc[0])\n",
    "G = nx.convert_node_labels_to_integers(G, first_label=0)\n",
    "\n",
    "c = list(greedy_modularity_communities(G))\n",
    "communities = np.zeros(len(G.nodes()))\n",
    "nc = 0\n",
    "for k in range(0,len(c)):\n",
    "    communities[sorted(c[k])]=nc\n",
    "    nc = nc+1\n",
    "\n",
    "print(\"Modularity Q = \", modularity(G,communities))"
   ]
  },
  {
   "cell_type": "markdown",
   "metadata": {},
   "source": [
    "**Questão 2** - Calcule a modularidade para a rede Jazz usando o método Louvain."
   ]
  },
  {
   "cell_type": "code",
   "execution_count": 35,
   "metadata": {},
   "outputs": [
    {
     "name": "stdout",
     "output_type": "stream",
     "text": [
      "Modularity Q =  0.4389078153753761\n"
     ]
    }
   ],
   "source": [
    "partitions =community_louvain.best_partition(G)\n",
    "\n",
    "#Reading the network from a file with two colums\n",
    "G= G=nx.read_edgelist(\"data/jazz.txt\", nodetype=int)\n",
    "\n",
    "#Organizing the components of the network and selecting only the largest\n",
    "G = G.to_undirected()\n",
    "G.remove_edges_from(nx.selfloop_edges(G))\n",
    "Gcc = sorted(nx.connected_components(G), key=len, reverse=True)\n",
    "G = G.subgraph(Gcc[0])\n",
    "G = nx.convert_node_labels_to_integers(G, first_label=0)\n",
    "\n",
    "c = list(greedy_modularity_communities(G))\n",
    "communities = np.zeros(len(G.nodes()))\n",
    "nc = 0\n",
    "for k in range(0,len(c)):\n",
    "    communities[sorted(c[k])]=nc\n",
    "    nc = nc+1\n",
    "\n",
    "print(\"Modularity Q = \", modularity(G,communities))"
   ]
  },
  {
   "cell_type": "markdown",
   "metadata": {},
   "source": [
    "**Questão 3** - Considere o método de geração de redes LFR_benchmark_graph. Obtenha os valores de modularidade para $\\mu = 0.05$, $\\mu = 0.1$, $\\mu = 0.2$. Use o algoritmo de Louvain."
   ]
  },
  {
   "cell_type": "code",
   "execution_count": 36,
   "metadata": {},
   "outputs": [
    {
     "name": "stdout",
     "output_type": "stream",
     "text": [
      "Modularity Q (mu = 0.05 ) = 0.643639535397838\n",
      "Modularity Q (mu = 0.1 ) = 0.5427818606053953\n",
      "Modularity Q (mu = 0.2 ) = 0.44487909975820294\n"
     ]
    }
   ],
   "source": [
    "N = 128\n",
    "tau1 = 3\n",
    "tau2 = 1.5\n",
    "mu = [0.05,0.1,0.2]\n",
    "k =16\n",
    "minc = 32\n",
    "maxc = 32\n",
    "\n",
    "for i in mu:\n",
    "    G = nx.LFR_benchmark_graph(n = N, tau1 = tau1, tau2 = tau2, mu = i, min_degree = k, \n",
    "                        max_degree = k, min_community=minc, max_community = maxc, seed = 10)\n",
    "    partitions =community_louvain.best_partition(G)\n",
    "\n",
    "    c = {frozenset(G.nodes[v]['community']) for v in G}\n",
    "    communities = np.zeros(len(G.nodes()))\n",
    "    cl = 0\n",
    "    for a in c:\n",
    "        b = list(a)\n",
    "        communities[b] = cl\n",
    "        cl = cl + 1\n",
    "\n",
    "    print(\"Modularity Q (mu =\",i,\") =\", modularity(G,communities))\n"
   ]
  },
  {
   "cell_type": "markdown",
   "metadata": {},
   "source": [
    "**Questão 4** - Considere o método de geração de redes LFR_benchmark_graph. Obtenha os valores de modularidade para $\\mu = 0.05$, $\\mu = 0.2$, $\\mu = 0.4$. Use o algoritmo de Louvain."
   ]
  },
  {
   "cell_type": "code",
   "execution_count": 37,
   "metadata": {},
   "outputs": [
    {
     "name": "stdout",
     "output_type": "stream",
     "text": [
      "Modularity Q (mu = 0.05 ) = 0.643639535397838\n",
      "Modularity Q (mu = 0.2 ) = 0.44487909975820294\n",
      "Modularity Q (mu = 0.4 ) = 0.17036661089762034\n"
     ]
    }
   ],
   "source": [
    "N = 128\n",
    "tau1 = 3\n",
    "tau2 = 1.5\n",
    "mu = [0.05,0.2,0.4]\n",
    "k =16\n",
    "minc = 32\n",
    "maxc = 32\n",
    "\n",
    "for i in mu:\n",
    "    G = nx.LFR_benchmark_graph(n = N, tau1 = tau1, tau2 = tau2, mu = i, min_degree = k, \n",
    "                        max_degree = k, min_community=minc, max_community = maxc, seed = 10)\n",
    "    partitions =community_louvain.best_partition(G)\n",
    "\n",
    "    c = {frozenset(G.nodes[v]['community']) for v in G}\n",
    "    communities = np.zeros(len(G.nodes()))\n",
    "    cl = 0\n",
    "    for a in c:\n",
    "        b = list(a)\n",
    "        communities[b] = cl\n",
    "        cl = cl + 1\n",
    "\n",
    "    print(\"Modularity Q (mu =\",i,\") =\", modularity(G,communities))\n"
   ]
  }
 ],
 "metadata": {
  "kernelspec": {
   "display_name": "base",
   "language": "python",
   "name": "python3"
  },
  "language_info": {
   "codemirror_mode": {
    "name": "ipython",
    "version": 3
   },
   "file_extension": ".py",
   "mimetype": "text/x-python",
   "name": "python",
   "nbconvert_exporter": "python",
   "pygments_lexer": "ipython3",
   "version": "3.11.7"
  }
 },
 "nbformat": 4,
 "nbformat_minor": 2
}
