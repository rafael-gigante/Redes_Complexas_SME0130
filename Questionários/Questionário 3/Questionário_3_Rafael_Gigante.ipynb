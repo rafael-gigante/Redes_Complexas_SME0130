{
 "cells": [
  {
   "cell_type": "markdown",
   "metadata": {},
   "source": [
    "# Questionário 3 - Redes Complexas (SME0130)\n",
    "---\n",
    "\n",
    "Aluno: Rafael Fernando Gigante\n",
    "\n",
    "N° USP: 12610500"
   ]
  },
  {
   "cell_type": "code",
   "execution_count": 10,
   "metadata": {},
   "outputs": [],
   "source": [
    "from numpy  import *\n",
    "import numpy as np\n",
    "import math\n",
    "import matplotlib.pyplot as plt\n",
    "import networkx as nx\n",
    "from scipy import stats"
   ]
  },
  {
   "cell_type": "markdown",
   "metadata": {},
   "source": [
    "**Questão 1** - A média medida eigenvector centrality da rede USairport500 é igual a quanto? Considere apenas o maior componente."
   ]
  },
  {
   "cell_type": "code",
   "execution_count": 2,
   "metadata": {},
   "outputs": [
    {
     "name": "stdout",
     "output_type": "stream",
     "text": [
      "Average eigenvector centrality 0.022754398239423664\n"
     ]
    }
   ],
   "source": [
    "#Reading the network from a file with two colums\n",
    "G= G=nx.read_edgelist(\"data/USairport500.txt\", nodetype=int)\n",
    "\n",
    "#Organizing the components of the network and selecting only the largest\n",
    "G = G.to_undirected()\n",
    "G.remove_edges_from(nx.selfloop_edges(G))\n",
    "Gcc = sorted(nx.connected_components(G), key=len, reverse=True)\n",
    "G = G.subgraph(Gcc[0])\n",
    "G = nx.convert_node_labels_to_integers(G, first_label=0)\n",
    "\n",
    "EC = dict(nx.eigenvector_centrality(G, max_iter = 1000))\n",
    "EC = list(EC.values())\n",
    "av_EC = np.mean(EC)\n",
    "print('Average eigenvector centrality', av_EC)"
   ]
  },
  {
   "cell_type": "markdown",
   "metadata": {},
   "source": [
    "**Questão 2** - Calcule a correlação de Pearson entre a medida de betweeness centrality e grau para a rede hamsterster."
   ]
  },
  {
   "cell_type": "code",
   "execution_count": 4,
   "metadata": {},
   "outputs": [
    {
     "name": "stdout",
     "output_type": "stream",
     "text": [
      "Pearson correlation coefficient: 0.8242435188731515\n"
     ]
    }
   ],
   "source": [
    "#Reading the network from a file with two colums\n",
    "G= G=nx.read_edgelist(\"data/hamsterster.txt\", nodetype=int)\n",
    "\n",
    "#Organizing the components of the network and selecting only the largest\n",
    "G = G.to_undirected()\n",
    "G.remove_edges_from(nx.selfloop_edges(G))\n",
    "Gcc = sorted(nx.connected_components(G), key=len, reverse=True)\n",
    "G = G.subgraph(Gcc[0])\n",
    "G = nx.convert_node_labels_to_integers(G, first_label=0)\n",
    "\n",
    "# Betweenness centrality\n",
    "B = dict(nx.betweenness_centrality(G))\n",
    "B = list(B.values())\n",
    "\n",
    "#list with all degree values\n",
    "vk = dict(G.degree())\n",
    "vk = list(vk.values())\n",
    "\n",
    "rho = corrcoef(B, vk)[0,1]\n",
    "print('Pearson correlation coefficient:', rho)"
   ]
  },
  {
   "cell_type": "markdown",
   "metadata": {},
   "source": [
    "**Questão 3** - Calcule o coeficiente de correlação de Spearman entre as medidas closeness centrality e k-core para a rede \"Jazz\"."
   ]
  },
  {
   "cell_type": "code",
   "execution_count": 14,
   "metadata": {},
   "outputs": [
    {
     "name": "stdout",
     "output_type": "stream",
     "text": [
      "          CLC        KC\n",
      "CLC  1.000000  0.748227\n",
      "KC   0.748227  1.000000\n"
     ]
    }
   ],
   "source": [
    "import pandas as pd\n",
    "#Reading the network from a file with two colums\n",
    "G= G=nx.read_edgelist(\"data/jazz.txt\", nodetype=int)\n",
    "\n",
    "#Organizing the components of the network and selecting only the largest\n",
    "G = G.to_undirected()\n",
    "G.remove_edges_from(nx.selfloop_edges(G))\n",
    "Gcc = sorted(nx.connected_components(G), key=len, reverse=True)\n",
    "G = G.subgraph(Gcc[0])\n",
    "G = nx.convert_node_labels_to_integers(G, first_label=0)\n",
    "\n",
    "CLC = dict(nx.closeness_centrality(G))\n",
    "CLC = list(CLC.values())\n",
    "\n",
    "KC= dict(nx.core_number(G))\n",
    "KC = list(KC.values())\n",
    "\n",
    "df = pd.DataFrame({'CLC':CLC,'KC':KC})\n",
    "\n",
    "corr = df.corr()\n",
    "print(corr)"
   ]
  }
 ],
 "metadata": {
  "kernelspec": {
   "display_name": "base",
   "language": "python",
   "name": "python3"
  },
  "language_info": {
   "codemirror_mode": {
    "name": "ipython",
    "version": 3
   },
   "file_extension": ".py",
   "mimetype": "text/x-python",
   "name": "python",
   "nbconvert_exporter": "python",
   "pygments_lexer": "ipython3",
   "version": "3.11.7"
  }
 },
 "nbformat": 4,
 "nbformat_minor": 2
}
