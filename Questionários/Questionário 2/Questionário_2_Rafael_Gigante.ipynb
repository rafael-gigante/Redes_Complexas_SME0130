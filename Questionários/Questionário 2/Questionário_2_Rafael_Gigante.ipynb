{
 "cells": [
  {
   "cell_type": "markdown",
   "metadata": {},
   "source": [
    "# Questionário 2 - Redes Complexas (SME0130)\n",
    "---\n",
    "\n",
    "Aluno: Rafael Fernando Gigante\n",
    "\n",
    "N° USP: 12610500"
   ]
  },
  {
   "cell_type": "markdown",
   "metadata": {},
   "source": [
    "**Questão 1** - Para a rede social Hamsterster, calcule a média dos menores caminhos e o diâmetro. Considere apenas o maior componente."
   ]
  },
  {
   "cell_type": "code",
   "execution_count": 1,
   "metadata": {},
   "outputs": [],
   "source": [
    "from numpy  import *\n",
    "import numpy as np\n",
    "import math\n",
    "import matplotlib.pyplot as plt\n",
    "import networkx as nx"
   ]
  },
  {
   "cell_type": "code",
   "execution_count": 8,
   "metadata": {},
   "outputs": [
    {
     "name": "stdout",
     "output_type": "stream",
     "text": [
      "Average shortest path length: 3.45\n",
      "Network diameter: 14\n"
     ]
    }
   ],
   "source": [
    "#Reading the network from a file with two colums\n",
    "G= G=nx.read_edgelist(\"data/hamsterster.txt\", nodetype=int)\n",
    "\n",
    "#Organizing the components of the network and selecting only the largest\n",
    "Gcc = sorted(nx.connected_components(G), key=len, reverse=True)\n",
    "G = G.subgraph(Gcc[0])\n",
    "G = nx.convert_node_labels_to_integers(G, first_label=0)\n",
    "\n",
    "#Using the networkx library to measure the average shortest path length and the diameter of the network\n",
    "l = nx.average_shortest_path_length(G)\n",
    "print(\"Average shortest path length:\", \"%3.2f\"%l)\n",
    "d = nx.diameter(G)\n",
    "print('Network diameter:', d)"
   ]
  },
  {
   "cell_type": "markdown",
   "metadata": {},
   "source": [
    "**Questão 2** - Para a rede de aeroportos (base USairport500), calcule a média e variância do comprimento dos menores caminhos. Considere apenas o maior componente da rede."
   ]
  },
  {
   "cell_type": "code",
   "execution_count": 41,
   "metadata": {},
   "outputs": [
    {
     "name": "stdout",
     "output_type": "stream",
     "text": [
      "Average shortest path length: 2.9910300601202406\n",
      "Variance of the shortest path length: 0.8175467946875716\n"
     ]
    }
   ],
   "source": [
    "#Reading the network from a file with two colums\n",
    "G= G=nx.read_edgelist(\"data/USairport500.txt\", nodetype=int)\n",
    "\n",
    "#Organizing the components of the network and selecting only the largest\n",
    "Gcc = sorted(nx.connected_components(G), key=len, reverse=True)\n",
    "G = G.subgraph(Gcc[0])\n",
    "G = nx.convert_node_labels_to_integers(G, first_label=0)\n",
    "\n",
    "#Number of nodes\n",
    "N = len(G)\n",
    "#Calculating the shorter distance between all nodes and storing in an array\n",
    "vl = []\n",
    "for i in np.arange(0,N):\n",
    "    for j in np.arange(i+1, N):\n",
    "        if(i != j):\n",
    "            aux = nx.shortest_path(G,i,j) #array with the path of nodes\n",
    "            dij = len(aux)-1 #taking the actual distance between the nodes\n",
    "            vl.append(dij)\n",
    "\n",
    "print(\"Average shortest path length:\", np.mean(vl)) #mean of the shortest paths\n",
    "print(\"Variance of the shortest path length:\", np.var(vl)) #variance of the shortest paths"
   ]
  },
  {
   "cell_type": "markdown",
   "metadata": {},
   "source": [
    "**Questão 3** - Calcule o coeficiente de assortatividade para a rede Advogato. Considere apenas o maior componente."
   ]
  },
  {
   "cell_type": "code",
   "execution_count": 20,
   "metadata": {},
   "outputs": [
    {
     "name": "stdout",
     "output_type": "stream",
     "text": [
      "Assortativity =  -0.0846\n"
     ]
    }
   ],
   "source": [
    "#Reading the network from a file with two colums\n",
    "G= G=nx.read_edgelist(\"data/advogato.txt\", nodetype=int)\n",
    "\n",
    "#Organizing the components of the network and selecting only the largest\n",
    "Gcc = sorted(nx.connected_components(G), key=len, reverse=True)\n",
    "G = G.subgraph(Gcc[0])\n",
    "G = nx.convert_node_labels_to_integers(G, first_label=0)\n",
    "\n",
    "#Using the networkx library to measure the assortativity\n",
    "r=nx.degree_assortativity_coefficient(G)\n",
    "print(\"Assortativity = \",\"%3.4f\"%r)"
   ]
  },
  {
   "cell_type": "markdown",
   "metadata": {},
   "source": [
    "**Questão 4** - Para a rede de aeroportos (USairport500), calcule a entropia de Shannon considerando o comprimento dos menores caminhos. Use o logaritmo de base 2 considere apenas o maior componente."
   ]
  },
  {
   "cell_type": "code",
   "execution_count": 27,
   "metadata": {},
   "outputs": [
    {
     "name": "stdout",
     "output_type": "stream",
     "text": [
      "Shannon Entropy =  1.883667007854659\n"
     ]
    }
   ],
   "source": [
    "#Defining a function that calculates the shannon entropy\n",
    "def shannon(vl,N):\n",
    "    H = 0\n",
    "    for i in set(vl): #list with the all the possible path sizes\n",
    "        H = H - (vl.count(i)/N) * math.log((vl.count(i)/N),2)\n",
    "    return H\n",
    "\n",
    "#Reading the network from a file with two colums\n",
    "G= G=nx.read_edgelist(\"data/USairport500.txt\", nodetype=int)\n",
    "\n",
    "#Organizing the components of the network and selecting only the largest\n",
    "Gcc = sorted(nx.connected_components(G), key=len, reverse=True)\n",
    "G = G.subgraph(Gcc[0])\n",
    "G = nx.convert_node_labels_to_integers(G, first_label=0)\n",
    "\n",
    "#Number of nodes\n",
    "N = len(G)\n",
    "#Calculating the shorter distance between all nodes and storing in an array\n",
    "vl = []\n",
    "for i in np.arange(0,N):\n",
    "    for j in np.arange(i+1, N):\n",
    "        if(i != j):\n",
    "            aux = nx.shortest_path(G,i,j) #array with the path of nodes\n",
    "            dij = len(aux)-1 #taking the actual distance between the nodes\n",
    "            vl.append(dij)\n",
    "\n",
    "print(\"Shannon Entropy = \", shannon(vl,len(vl)))"
   ]
  },
  {
   "cell_type": "markdown",
   "metadata": {},
   "source": [
    "**Questão 5** - Calcule o coeficiente de correlação de Pearson entre o grau médio dos vizinhos e o grau para a rede de palavras (word_adjacencies). Considere apenas o maior componente conectado. "
   ]
  },
  {
   "cell_type": "code",
   "execution_count": 40,
   "metadata": {},
   "outputs": [
    {
     "name": "stdout",
     "output_type": "stream",
     "text": [
      "Pearson correlation coefficient: -0.710832214935246\n"
     ]
    }
   ],
   "source": [
    "#Reading the network from a file with two colums\n",
    "G= G=nx.read_edgelist(\"data/word_adjacencies.txt\", nodetype=int)\n",
    "\n",
    "#Organizing the components of the network and selecting only the largest\n",
    "Gcc = sorted(nx.connected_components(G), key=len, reverse=True)\n",
    "G = G.subgraph(Gcc[0])\n",
    "G = nx.convert_node_labels_to_integers(G, first_label=0)\n",
    "\n",
    "#Calculating the average neighbor degree\n",
    "knn = []\n",
    "for i in G.nodes():\n",
    "    aux =  nx.average_neighbor_degree(G, nodes = [i])\n",
    "    knn.append(float(aux[i]))\n",
    "knn = np.array(knn)\n",
    "\n",
    "#list with all degree values\n",
    "vk = dict(G.degree())\n",
    "vk = list(vk.values())\n",
    "\n",
    "knnk = list()\n",
    "ks = list()\n",
    "\n",
    "for k in arange(np.min(vk), np.max(vk)+1):\n",
    "    aux = vk == k\n",
    "    if(len(knn[aux]) > 0):\n",
    "        av_knn = mean(knn[aux]) #average clustering among all the nodes with degree k\n",
    "        knnk.append(av_knn)\n",
    "        ks.append(k)\n",
    "\n",
    "rho = corrcoef(ks, knnk)[0,1]\n",
    "print('Pearson correlation coefficient:', rho)"
   ]
  }
 ],
 "metadata": {
  "kernelspec": {
   "display_name": "Python 3",
   "language": "python",
   "name": "python3"
  },
  "language_info": {
   "codemirror_mode": {
    "name": "ipython",
    "version": 3
   },
   "file_extension": ".py",
   "mimetype": "text/x-python",
   "name": "python",
   "nbconvert_exporter": "python",
   "pygments_lexer": "ipython3",
   "version": "3.11.7"
  }
 },
 "nbformat": 4,
 "nbformat_minor": 2
}
