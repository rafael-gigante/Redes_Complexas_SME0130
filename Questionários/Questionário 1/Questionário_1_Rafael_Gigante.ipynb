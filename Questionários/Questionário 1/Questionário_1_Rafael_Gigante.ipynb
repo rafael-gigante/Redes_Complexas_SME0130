{
 "cells": [
  {
   "cell_type": "markdown",
   "metadata": {},
   "source": [
    "# Questionário 1 - Redes Complexas (SME0130)\n",
    "---\n",
    "\n",
    "Aluno: Rafael Fernando Gigante\n",
    "\n",
    "N° USP: 12610500"
   ]
  },
  {
   "cell_type": "markdown",
   "metadata": {},
   "source": [
    "**Questão 1** - Para a rede do livro \"Os miseráveis\" (base lesmis), calcule o terceiro e quarto momento do grau."
   ]
  },
  {
   "cell_type": "markdown",
   "metadata": {},
   "source": [
    "Em estatística, temos que o n-ésimo momento de uma amostra de $N$ valores $x_1, \\dots, x_N$ é dado por\n",
    "$$\n",
    "<x^n> = \\frac{x_1^n + \\dots + x_N^n}{N} =\\frac{1}{N} \\sum\\limits_{i=1}^{N} x_{i}^{n}.\n",
    "$$\n",
    "\n",
    "Portanto, para determinar o terceiro e quarto momento do grau, basta calcularmos\n",
    "$$\n",
    "<k^3>\n",
    "$$\n",
    "e\n",
    "$$\n",
    "<k^4>.\n",
    "$$"
   ]
  },
  {
   "cell_type": "code",
   "execution_count": 8,
   "metadata": {},
   "outputs": [],
   "source": [
    "from numpy  import *\n",
    "import numpy as np\n",
    "import math\n",
    "import matplotlib.pyplot as plt\n",
    "import networkx as nx"
   ]
  },
  {
   "cell_type": "code",
   "execution_count": 6,
   "metadata": {},
   "outputs": [
    {
     "name": "stdout",
     "output_type": "stream",
     "text": [
      "Terceiro momento de k: 1408.025974025974\n",
      "Quarto momento de k: 33592.72727272727\n"
     ]
    }
   ],
   "source": [
    "#Definindo uma função para calcular o n-ésimo momento de um grafo\n",
    "def momento(G,n):\n",
    "    M = 0 #momento\n",
    "    N = len(G) #número de vértices\n",
    "    for i in G.nodes:\n",
    "        M += G.degree(i) ** n #soma do grau do vértice i elevado a n\n",
    "    return M/N\n",
    "\n",
    "#Lendo o arquivo contendo os dados da rede\n",
    "G = nx.read_gml(\"data/lesmis.gml\")\n",
    "\n",
    "print('Terceiro momento de k:', momento(G,3))\n",
    "print('Quarto momento de k:', momento(G,4))"
   ]
  },
  {
   "cell_type": "markdown",
   "metadata": {},
   "source": [
    "**Questão 2** - Implemente uma rotina para calcular a medida de complexidade. Qual o valor da complexidade para a rede de energia elétrica dos EUA (base powergrid)."
   ]
  },
  {
   "cell_type": "markdown",
   "metadata": {},
   "source": [
    "A complexidade de uma rede é definida como\n",
    "$$\n",
    "\\alpha = \\frac{<k^2>}{<k>} = \\frac{\\sum\\limits_{i=1}^N k_i^2}{\\sum\\limits_{i=1}^N k_i},\n",
    "$$\n",
    "\n",
    "onde o termo $1/N$ foi omitido por aparecer tanto no numerador quanto no denominador.\n",
    "\n",
    "Assim, podemos reaproveitar o algoritmo utilizado para implementar uma nova função que retorne a complexidade."
   ]
  },
  {
   "cell_type": "code",
   "execution_count": 7,
   "metadata": {},
   "outputs": [
    {
     "name": "stdout",
     "output_type": "stream",
     "text": [
      "Coeficiente de complexidade: 3.8712465878070974\n"
     ]
    }
   ],
   "source": [
    "def complexidade(G):\n",
    "    M_1 = 0 #Média\n",
    "    M_2 = 0 #Segundo momento\n",
    "    for i in G.nodes:\n",
    "        M_1 += G.degree(i)\n",
    "        M_2 += G.degree(i)**2\n",
    "    return M_2/M_1\n",
    "\n",
    "G=nx.read_edgelist(\"data/powergrid.txt\", nodetype=int)\n",
    "\n",
    "print('Coeficiente de complexidade:', complexidade(G))"
   ]
  },
  {
   "cell_type": "markdown",
   "metadata": {},
   "source": [
    "**Questão 3** - Implemente uma rotina para calcular a entropia de Shannon e calcule essa medida para a base de estradas da Europa (base euroroad)."
   ]
  },
  {
   "cell_type": "markdown",
   "metadata": {},
   "source": [
    "A Entropia de Shannon é definida como:\n",
    "$$\n",
    "H(X) = - \\sum\\limits_{i} P(x_i) log_2P(x_i) ,\n",
    "$$\n",
    "\n",
    "onde $P(x_i)$ é a probabilidade de que $X=x_i$. No nosso caso, queremos saber a probabilidade de que algum vértice escolhido de forma aleatória tenha grau $k$, assim temos que $P(k) = N_k/N$, onde $N_k$ é o número de vértices de grau $k$."
   ]
  },
  {
   "cell_type": "code",
   "execution_count": 37,
   "metadata": {},
   "outputs": [
    {
     "name": "stdout",
     "output_type": "stream",
     "text": [
      "Shannon Entropy =  2.0033103874527756\n"
     ]
    }
   ],
   "source": [
    "def shannon(G):\n",
    "    vk = dict(G.degree()) #transforma a rede em um dicionário\n",
    "    vk = list(vk.values()) #transforma o dicionário em uma lista com o grau de cada vértice\n",
    "    N = len(G) #número de vértices da lista\n",
    "    H = 0\n",
    "    for i in set(vk): #lista com os possíveis graus da rede \n",
    "        H = H - (vk.count(i)/N) * math.log((vk.count(i)/N),2)\n",
    "    return H\n",
    "\n",
    "G=nx.read_edgelist(\"data/euroroad.txt\", nodetype=int)\n",
    "\n",
    "\n",
    "\n",
    "print(\"Shannon Entropy = \", shannon(G))"
   ]
  },
  {
   "cell_type": "markdown",
   "metadata": {},
   "source": [
    "**Questão 4** - Calcule as medidas *transitivity* e *average clustering coefficient* para a base de dados aeroportos dos EUA (base USairports)."
   ]
  },
  {
   "cell_type": "markdown",
   "metadata": {},
   "source": [
    "Para obtermos as medidas requeridas basta utilizarmos as funções da biblioteca Networkx. "
   ]
  },
  {
   "cell_type": "code",
   "execution_count": 42,
   "metadata": {},
   "outputs": [
    {
     "name": "stdout",
     "output_type": "stream",
     "text": [
      "Transitivity =  0.38414344664491556\n",
      "Average clustering: 0.5041525392095769\n"
     ]
    }
   ],
   "source": [
    "G=nx.read_edgelist(\"data/USairports.txt\", nodetype=int)\n",
    "\n",
    "tran = (nx.transitivity(G))\n",
    "print(\"Transitivity = \",tran)\n",
    "\n",
    "avc = nx.average_clustering(G)\n",
    "print(\"Average clustering:\", avc)"
   ]
  },
  {
   "cell_type": "markdown",
   "metadata": {},
   "source": [
    "**Questão 5** - Calcule o coeficiente de complexidade e a entropia de Shannon para a rede de aeroportos dos EUA (base USairport)."
   ]
  },
  {
   "cell_type": "markdown",
   "metadata": {},
   "source": [
    "Para obtermos essas medidas, basta reutilizarmos as funções criadas para as outras questões."
   ]
  },
  {
   "cell_type": "code",
   "execution_count": 43,
   "metadata": {},
   "outputs": [
    {
     "name": "stdout",
     "output_type": "stream",
     "text": [
      "Coeficiente de complexidade: 112.22224803950044\n",
      "Shannon Entropy =  4.985977646539227\n"
     ]
    }
   ],
   "source": [
    "G=nx.read_edgelist(\"data/USairports.txt\", nodetype=int)\n",
    "\n",
    "print('Coeficiente de complexidade:', complexidade(G))\n",
    "print(\"Shannon Entropy = \", shannon(G))"
   ]
  }
 ],
 "metadata": {
  "kernelspec": {
   "display_name": "Python 3",
   "language": "python",
   "name": "python3"
  },
  "language_info": {
   "codemirror_mode": {
    "name": "ipython",
    "version": 3
   },
   "file_extension": ".py",
   "mimetype": "text/x-python",
   "name": "python",
   "nbconvert_exporter": "python",
   "pygments_lexer": "ipython3",
   "version": "3.11.7"
  }
 },
 "nbformat": 4,
 "nbformat_minor": 2
}
